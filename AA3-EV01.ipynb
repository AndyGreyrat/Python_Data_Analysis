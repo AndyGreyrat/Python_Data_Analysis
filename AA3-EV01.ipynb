{
 "cells": [
  {
   "cell_type": "markdown",
   "metadata": {},
   "source": [
    "\n",
    "# <center>Informe detallado para el proceso de análisis estadístico de datos de multivariable</center>\n"
   ]
  },
  {
   "cell_type": "markdown",
   "metadata": {},
   "source": [
    "## Introducción: \n",
    "### La empresa A&A Ltda ha iniciado un proceso de implementación de Machine Learning y ha asignado una tarea crucial en este proyecto: realizar un análisis exploratorio de datos y documentar los resultados encontrados en un informe detallado. El objetivo es analizar información sobre precios de viviendas y locales para la venta, con el fin de identificar patrones y relaciones entre las diferentes variables que afectan su valor. Los datos a analizar incluyen variables como la ciudad, el departamento, el barrio, la dirección, el tipo y el estado de los inmuebles.\n"
   ]
  },
  {
   "cell_type": "markdown",
   "metadata": {},
   "source": [
    "## Pregunta central para el análisis de datos del caso propuesto: \n",
    "### ¿Cuáles son las variables más importantes que afectan el precio de las viviendas y locales en venta y cómo se relacionan entre sí? Esta pregunta permitiría explorar las relaciones entre las diferentes variables y determinar cuáles son las más relevantes para predecir el precio de los inmuebles.\n"
   ]
  },
  {
   "cell_type": "markdown",
   "metadata": {},
   "source": [
    "## Definición del método a usar para el análisis de datos de este caso:\n",
    "\n",
    "### Con el análisis exploratorio de datos, es posible comprender y llegar a conclusiones de hipótesis sin tener que centrarse en el desarrollo de complicados algoritmos. Dentro de los métodos que se pueden utilizar en el análisis exploratorio, se encuentran los análisis propios de la estadística descriptiva, además de las visualizaciones gráficas, que permiten llegar a conclusiones de manera más fácil y precisa. En ese sentido, se pueden encontrar, dentro del análisis de datos, variables que son categóricas y variables numéricas, y dependiendo de ellas, se aplicarán métodos que permitan generar algún tipo de información de interés.\n",
    "\n",
    "### Por tal motivo para este caso preciso el método a usar será el del análisis por medio de la estadística descriptiva.\n"
   ]
  },
  {
   "cell_type": "markdown",
   "metadata": {},
   "source": [
    "## Declaración de las librerías necesarias para en análisis de datos:\n",
    "\n",
    "### - numpy (para hacer cálculos matemáticos)\n",
    "### - pandas (para manejo y manipulación de los datos)\n",
    "### - matplotlib.pyplot (para graficar resultados)\n",
    "### - seaborn (para la eleccion de una paleta de colores variada)\n",
    "### previamente se instalaron las librerías usando el comando %pip install y el nombre de la librería en la terminal de VSCODE. ya que esta no es la primera vez que uso Python o Jupiter notebook en VSCODE.\n"
   ]
  },
  {
   "cell_type": "code",
   "execution_count": 2,
   "metadata": {},
   "outputs": [],
   "source": [
    "import numpy as np\n",
    "import pandas as pd\n",
    "import matplotlib.pyplot as plt\n",
    "import seaborn as sns"
   ]
  },
  {
   "cell_type": "markdown",
   "metadata": {},
   "source": [
    "### Importamos los datos haciendo uso de la librería pandas para la lectura de un archivo CSV"
   ]
  },
  {
   "cell_type": "code",
   "execution_count": 3,
   "metadata": {},
   "outputs": [],
   "source": [
    "datos = pd.read_csv(r'C:\\Users\\Acer\\Desktop\\Python_Data_Analysis\\Actividad 3\\Data_Caso_Propuesto.csv')"
   ]
  },
  {
   "cell_type": "markdown",
   "metadata": {},
   "source": [
    "## Para la limpieza de datos usaremos los métodos incluidos en la librería Pandas los cuales son: \n",
    "### Isnull(), dropna(), duplicated(), dropduplicates(); isnull() es para comprobar la presencia de datos nulos; dropna() elimina los datos nulos en caso de haberlos , dentro de  nuestro conjunto de datos; duplicated() mapea los datos y encuentra los datos duplicados y por ultimo dropduplicates() elimina los datos duplicados del conjunto de datos.\n"
   ]
  },
  {
   "cell_type": "code",
   "execution_count": 4,
   "metadata": {},
   "outputs": [
    {
     "data": {
      "text/plain": [
       "Codigo                      0\n",
       "Ciudad                      0\n",
       "Departamento                0\n",
       "Barrio                    423\n",
       "Direccion                   0\n",
       "Area Terreno                0\n",
       "Area Construida             0\n",
       "Detalle Disponibilidad      0\n",
       "Estrato                     0\n",
       "Precio                      0\n",
       "Tipo de Inmueble            0\n",
       "Datos Adicionales         345\n",
       "dtype: int64"
      ]
     },
     "execution_count": 4,
     "metadata": {},
     "output_type": "execute_result"
    }
   ],
   "source": [
    "datos.isnull().sum()  # se suman y muestran los datos nulos en cada columna"
   ]
  },
  {
   "cell_type": "markdown",
   "metadata": {},
   "source": [
    "### Podemos observar que en las columnas Datos Adicionales y Barrio  tenemos muchos datos nulos, así que ahora debemos eliminarlos usando el método de pandas dropna() :"
   ]
  },
  {
   "cell_type": "code",
   "execution_count": 5,
   "metadata": {},
   "outputs": [],
   "source": [
    "datos = datos.dropna() # Se eliminan los datos nulos que teniamos en nuestra base de datos."
   ]
  },
  {
   "cell_type": "markdown",
   "metadata": {},
   "source": [
    "### Ahora corroboramos que esos datos nulos hayan sido eliminados:"
   ]
  },
  {
   "cell_type": "code",
   "execution_count": 6,
   "metadata": {},
   "outputs": [
    {
     "data": {
      "text/plain": [
       "Codigo                    0\n",
       "Ciudad                    0\n",
       "Departamento              0\n",
       "Barrio                    0\n",
       "Direccion                 0\n",
       "Area Terreno              0\n",
       "Area Construida           0\n",
       "Detalle Disponibilidad    0\n",
       "Estrato                   0\n",
       "Precio                    0\n",
       "Tipo de Inmueble          0\n",
       "Datos Adicionales         0\n",
       "dtype: int64"
      ]
     },
     "execution_count": 6,
     "metadata": {},
     "output_type": "execute_result"
    }
   ],
   "source": [
    "datos.isnull().sum() # se suman y muestran los datos nulos en cada columna"
   ]
  },
  {
   "cell_type": "markdown",
   "metadata": {},
   "source": [
    "## Verificar si existen datos duplicados: \n",
    "### En la siguiente celda se presentan dos línea de código que con las que mediante el método de pandas llamado duplicated() , podemos verificar si tenemos datos duplicados en nuestro conjunto de datos.\n"
   ]
  },
  {
   "cell_type": "code",
   "execution_count": 7,
   "metadata": {},
   "outputs": [
    {
     "name": "stdout",
     "output_type": "stream",
     "text": [
      "3      False\n",
      "37     False\n",
      "43     False\n",
      "49     False\n",
      "54     False\n",
      "55     False\n",
      "57     False\n",
      "60     False\n",
      "68     False\n",
      "80     False\n",
      "86     False\n",
      "93     False\n",
      "99     False\n",
      "105    False\n",
      "106    False\n",
      "124    False\n",
      "236    False\n",
      "452    False\n",
      "454    False\n",
      "458    False\n",
      "460    False\n",
      "461    False\n",
      "462    False\n",
      "dtype: bool\n"
     ]
    }
   ],
   "source": [
    "# Encuentra filas duplicadas\n",
    "duplicados = datos.duplicated()\n",
    "\n",
    "# Muestra las filas duplicadas\n",
    "print(duplicados)\n"
   ]
  },
  {
   "cell_type": "markdown",
   "metadata": {},
   "source": [
    "### Ahora procedemos a eliminar datos duplicados con el siguiente método drop_duplicates():"
   ]
  },
  {
   "cell_type": "code",
   "execution_count": 8,
   "metadata": {},
   "outputs": [],
   "source": [
    "datos = datos.drop_duplicates()  # Se eliminan datos duplicados"
   ]
  },
  {
   "cell_type": "code",
   "execution_count": 9,
   "metadata": {},
   "outputs": [
    {
     "name": "stdout",
     "output_type": "stream",
     "text": [
      "<class 'pandas.core.frame.DataFrame'>\n",
      "Index: 23 entries, 3 to 462\n",
      "Data columns (total 12 columns):\n",
      " #   Column                  Non-Null Count  Dtype  \n",
      "---  ------                  --------------  -----  \n",
      " 0   Codigo                  23 non-null     int64  \n",
      " 1   Ciudad                  23 non-null     object \n",
      " 2   Departamento            23 non-null     object \n",
      " 3   Barrio                  23 non-null     object \n",
      " 4   Direccion               23 non-null     object \n",
      " 5   Area Terreno            23 non-null     float64\n",
      " 6   Area Construida         23 non-null     float64\n",
      " 7   Detalle Disponibilidad  23 non-null     object \n",
      " 8   Estrato                 23 non-null     object \n",
      " 9   Precio                  23 non-null     float64\n",
      " 10  Tipo de Inmueble        23 non-null     object \n",
      " 11  Datos Adicionales       23 non-null     object \n",
      "dtypes: float64(3), int64(1), object(8)\n",
      "memory usage: 2.3+ KB\n"
     ]
    }
   ],
   "source": [
    "datos.info()    # se muestran los atributos de nuestros datos"
   ]
  },
  {
   "cell_type": "markdown",
   "metadata": {},
   "source": [
    "### Procedemos a ordenar los datos Segun precios en orden ascendente:"
   ]
  },
  {
   "cell_type": "code",
   "execution_count": 10,
   "metadata": {},
   "outputs": [],
   "source": [
    "Precio =  datos.sort_values('Precio')"
   ]
  },
  {
   "cell_type": "code",
   "execution_count": 11,
   "metadata": {},
   "outputs": [
    {
     "data": {
      "text/html": [
       "<div>\n",
       "<style scoped>\n",
       "    .dataframe tbody tr th:only-of-type {\n",
       "        vertical-align: middle;\n",
       "    }\n",
       "\n",
       "    .dataframe tbody tr th {\n",
       "        vertical-align: top;\n",
       "    }\n",
       "\n",
       "    .dataframe thead th {\n",
       "        text-align: right;\n",
       "    }\n",
       "</style>\n",
       "<table border=\"1\" class=\"dataframe\">\n",
       "  <thead>\n",
       "    <tr style=\"text-align: right;\">\n",
       "      <th></th>\n",
       "      <th>Codigo</th>\n",
       "      <th>Ciudad</th>\n",
       "      <th>Departamento</th>\n",
       "      <th>Barrio</th>\n",
       "      <th>Direccion</th>\n",
       "      <th>Area Terreno</th>\n",
       "      <th>Area Construida</th>\n",
       "      <th>Detalle Disponibilidad</th>\n",
       "      <th>Estrato</th>\n",
       "      <th>Precio</th>\n",
       "      <th>Tipo de Inmueble</th>\n",
       "      <th>Datos Adicionales</th>\n",
       "    </tr>\n",
       "  </thead>\n",
       "  <tbody>\n",
       "    <tr>\n",
       "      <th>236</th>\n",
       "      <td>18871</td>\n",
       "      <td>SANTANDER DE QUILICHAO</td>\n",
       "      <td>CAUCA</td>\n",
       "      <td>VILLA DEL SUR</td>\n",
       "      <td>CL 9 AS # 10-49 LT 14 MZ G  BARRIO VILLA DEL S...</td>\n",
       "      <td>0.00</td>\n",
       "      <td>0.00</td>\n",
       "      <td>COMERCIALIZABLE CON RESTRICCION</td>\n",
       "      <td>UNO</td>\n",
       "      <td>1.534802e+07</td>\n",
       "      <td>LOTE CON CONSTRUCCION</td>\n",
       "      <td>LOTE DE TERRENO CON CONSTRUCCION\\n\\nEL VALOR D...</td>\n",
       "    </tr>\n",
       "    <tr>\n",
       "      <th>462</th>\n",
       "      <td>12707</td>\n",
       "      <td>CALI</td>\n",
       "      <td>VALLE DEL CAUCA</td>\n",
       "      <td>PRADOS DEL NORTE</td>\n",
       "      <td>CL 30N #  2B-38 LOCAL 370 CENTRO COMERCIAL SAN...</td>\n",
       "      <td>0.00</td>\n",
       "      <td>0.00</td>\n",
       "      <td>COMERCIALIZABLE CON RESTRICCION</td>\n",
       "      <td>CUATRO</td>\n",
       "      <td>2.060800e+07</td>\n",
       "      <td>LOCAL</td>\n",
       "      <td>¡OPORTUNIDAD PARA INVERTIR! LOCAL EN PROINDIVI...</td>\n",
       "    </tr>\n",
       "    <tr>\n",
       "      <th>461</th>\n",
       "      <td>12706</td>\n",
       "      <td>CALI</td>\n",
       "      <td>VALLE DEL CAUCA</td>\n",
       "      <td>PRADOS DEL NORTE</td>\n",
       "      <td>CL 30N #  2B-38 LOCAL 367 CENTRO COMERCIAL SAN...</td>\n",
       "      <td>0.00</td>\n",
       "      <td>0.00</td>\n",
       "      <td>COMERCIALIZABLE CON RESTRICCION</td>\n",
       "      <td>CUATRO</td>\n",
       "      <td>2.060800e+07</td>\n",
       "      <td>LOCAL</td>\n",
       "      <td>¡OPORTUNIDAD PARA INVERTIR! LOCAL EN PROINDIVI...</td>\n",
       "    </tr>\n",
       "    <tr>\n",
       "      <th>460</th>\n",
       "      <td>12708</td>\n",
       "      <td>CALI</td>\n",
       "      <td>VALLE DEL CAUCA</td>\n",
       "      <td>PRADOS DEL NORTE</td>\n",
       "      <td>CL 30N #  2B-38 LOCAL 564 CENTRO COMERCIAL SAN...</td>\n",
       "      <td>0.00</td>\n",
       "      <td>0.00</td>\n",
       "      <td>COMERCIALIZABLE CON RESTRICCION</td>\n",
       "      <td>CUATRO</td>\n",
       "      <td>2.070134e+07</td>\n",
       "      <td>LOCAL</td>\n",
       "      <td>¡OPORTUNIDAD PARA INVERTIR! LOCAL EN PROINDIVI...</td>\n",
       "    </tr>\n",
       "    <tr>\n",
       "      <th>124</th>\n",
       "      <td>12732</td>\n",
       "      <td>CALI</td>\n",
       "      <td>VALLE DEL CAUCA</td>\n",
       "      <td>VEREDA EL SALADITO</td>\n",
       "      <td>LOTE 9C DIVISION REALIZADA A LA ANTIGUA HACIEN...</td>\n",
       "      <td>0.00</td>\n",
       "      <td>0.00</td>\n",
       "      <td>COMERCIALIZABLE</td>\n",
       "      <td>RURAL</td>\n",
       "      <td>2.940740e+07</td>\n",
       "      <td>LOTE MIXTO</td>\n",
       "      <td>INVIERTA EN ESTE TERRENO CAMPESTRE EN UNA ZONA...</td>\n",
       "    </tr>\n",
       "    <tr>\n",
       "      <th>458</th>\n",
       "      <td>12709</td>\n",
       "      <td>CALI</td>\n",
       "      <td>VALLE DEL CAUCA</td>\n",
       "      <td>PRADOS DEL NORTE</td>\n",
       "      <td>CL 30N #  2B-38 LOCAL 562  CENTRO COMERCIAL SA...</td>\n",
       "      <td>0.00</td>\n",
       "      <td>0.00</td>\n",
       "      <td>COMERCIALIZABLE CON RESTRICCION</td>\n",
       "      <td>CUATRO</td>\n",
       "      <td>2.960534e+07</td>\n",
       "      <td>LOCAL</td>\n",
       "      <td>¡OPORTUNIDAD PARA INVERTIR! LOCAL EN PROINDIVI...</td>\n",
       "    </tr>\n",
       "    <tr>\n",
       "      <th>454</th>\n",
       "      <td>12118</td>\n",
       "      <td>CALIMA EL DARIEN</td>\n",
       "      <td>VALLE DEL CAUCA</td>\n",
       "      <td>VEREDA PALERMO</td>\n",
       "      <td>LT 3B3</td>\n",
       "      <td>3073.00</td>\n",
       "      <td>0.00</td>\n",
       "      <td>COMERCIALIZABLE FIDUCIA</td>\n",
       "      <td>RURAL</td>\n",
       "      <td>4.916800e+07</td>\n",
       "      <td>LOTE VIVIENDA</td>\n",
       "      <td>LOTE DE TERRENO QUE HACE PARTE DEL PROYECTO CA...</td>\n",
       "    </tr>\n",
       "    <tr>\n",
       "      <th>106</th>\n",
       "      <td>18958</td>\n",
       "      <td>CARTAGENA</td>\n",
       "      <td>BOLÍVAR</td>\n",
       "      <td>ALTO BOSQUE</td>\n",
       "      <td>Diagonal 22 No. 53 - 41 Urb. Rincón del Alto B...</td>\n",
       "      <td>0.00</td>\n",
       "      <td>0.00</td>\n",
       "      <td>COMERCIALIZABLE CON RESTRICCION</td>\n",
       "      <td>TRES</td>\n",
       "      <td>1.253700e+08</td>\n",
       "      <td>APARTAMENTO</td>\n",
       "      <td>OPORTUNIDAD DE INVERTIR EN APARTAMENTO DÚPLEX ...</td>\n",
       "    </tr>\n",
       "    <tr>\n",
       "      <th>105</th>\n",
       "      <td>18959</td>\n",
       "      <td>CARTAGENA</td>\n",
       "      <td>BOLÍVAR</td>\n",
       "      <td>ALTO BOSQUE</td>\n",
       "      <td>Diagonal 22 No. 53 - 41 Urb. Rincón del Alto B...</td>\n",
       "      <td>0.00</td>\n",
       "      <td>0.00</td>\n",
       "      <td>COMERCIALIZABLE CON RESTRICCION</td>\n",
       "      <td>TRES</td>\n",
       "      <td>1.313550e+08</td>\n",
       "      <td>APARTAMENTO</td>\n",
       "      <td>OPORTUNIDAD DE INVERTIR EN APARTAMENTO DÚPLEX ...</td>\n",
       "    </tr>\n",
       "    <tr>\n",
       "      <th>43</th>\n",
       "      <td>10106</td>\n",
       "      <td>BARRANQUILLA</td>\n",
       "      <td>ATLÁNTICO</td>\n",
       "      <td>CENTRO</td>\n",
       "      <td>CALLE 39 NO 43 58 62 LC 1</td>\n",
       "      <td>0.00</td>\n",
       "      <td>0.00</td>\n",
       "      <td>COMERCIALIZABLE CON RESTRICCION</td>\n",
       "      <td>DOS</td>\n",
       "      <td>7.303790e+08</td>\n",
       "      <td>LOCAL</td>\n",
       "      <td>DESEAS INVERTIR ESTA ES LA OPORTUNIDAD LOCAL E...</td>\n",
       "    </tr>\n",
       "    <tr>\n",
       "      <th>99</th>\n",
       "      <td>12119</td>\n",
       "      <td>CALIMA EL DARIEN</td>\n",
       "      <td>VALLE DEL CAUCA</td>\n",
       "      <td>VEREDA PALERMO</td>\n",
       "      <td>LT 3B4</td>\n",
       "      <td>37861.33</td>\n",
       "      <td>1765.00</td>\n",
       "      <td>COMERCIALIZABLE FIDUCIA</td>\n",
       "      <td>RURAL</td>\n",
       "      <td>8.109750e+08</td>\n",
       "      <td>LOTE VIVIENDA</td>\n",
       "      <td>LOTE DE TERRENO QUE HACE PARTE DEL PROYECTO CA...</td>\n",
       "    </tr>\n",
       "    <tr>\n",
       "      <th>57</th>\n",
       "      <td>13270</td>\n",
       "      <td>MANIZALES</td>\n",
       "      <td>CALDAS</td>\n",
       "      <td>EL CENTRO</td>\n",
       "      <td>KR 22 # 29-31 LC S-8 CENTRO COMERCIAL PARQUE C...</td>\n",
       "      <td>0.00</td>\n",
       "      <td>91.47</td>\n",
       "      <td>COMERCIALIZABLE CON RESTRICCION</td>\n",
       "      <td>COMERCIAL</td>\n",
       "      <td>8.375908e+08</td>\n",
       "      <td>LOCAL</td>\n",
       "      <td>LOCAL UBICADO EN EL CENTRO COMERCIAL PARQUE CA...</td>\n",
       "    </tr>\n",
       "    <tr>\n",
       "      <th>93</th>\n",
       "      <td>12115</td>\n",
       "      <td>CALIMA EL DARIEN</td>\n",
       "      <td>VALLE DEL CAUCA</td>\n",
       "      <td>VEREDA PALERMO</td>\n",
       "      <td>LT 1C</td>\n",
       "      <td>64000.00</td>\n",
       "      <td>700.00</td>\n",
       "      <td>COMERCIALIZABLE FIDUCIA</td>\n",
       "      <td>RURAL</td>\n",
       "      <td>1.042887e+09</td>\n",
       "      <td>LOTE VIVIENDA</td>\n",
       "      <td>LOTE DE TERRENO QUE HACE PARTE DEL PROYECTO CA...</td>\n",
       "    </tr>\n",
       "    <tr>\n",
       "      <th>86</th>\n",
       "      <td>11787</td>\n",
       "      <td>SANTANDER DE QUILICHAO</td>\n",
       "      <td>CAUCA</td>\n",
       "      <td>PARQUE IND CAUCADESA</td>\n",
       "      <td>LT 8 ET I  PARQUE INDUSTRIAL  CAUCADESA</td>\n",
       "      <td>46126.00</td>\n",
       "      <td>0.00</td>\n",
       "      <td>COMERCIALIZABLE CON RESTRICCION</td>\n",
       "      <td>RURAL</td>\n",
       "      <td>1.416213e+09</td>\n",
       "      <td>LOTE INDUSTRIAL</td>\n",
       "      <td>LOTE TERRENO NETO , EN PROINDIVISO, SEMI-URBAN...</td>\n",
       "    </tr>\n",
       "    <tr>\n",
       "      <th>452</th>\n",
       "      <td>11335</td>\n",
       "      <td>CALI</td>\n",
       "      <td>VALLE DEL CAUCA</td>\n",
       "      <td>CIUDADELA CHIPICHAPE</td>\n",
       "      <td>LT  B  PARTE DEL PREDIO CHIPICHAPE</td>\n",
       "      <td>430399.68</td>\n",
       "      <td>0.00</td>\n",
       "      <td>COMERCIALIZABLE FIDUCIA</td>\n",
       "      <td>RURAL</td>\n",
       "      <td>1.667784e+09</td>\n",
       "      <td>LOTE VIVIENDA</td>\n",
       "      <td>CISA VENDE SOLO LOS DERECHOS FIDUCIARIOS DEL 0...</td>\n",
       "    </tr>\n",
       "    <tr>\n",
       "      <th>80</th>\n",
       "      <td>12121</td>\n",
       "      <td>CALIMA EL DARIEN</td>\n",
       "      <td>VALLE DEL CAUCA</td>\n",
       "      <td>VEREDA PALERMO</td>\n",
       "      <td>LT 3A</td>\n",
       "      <td>109627.44</td>\n",
       "      <td>0.00</td>\n",
       "      <td>COMERCIALIZABLE FIDUCIA</td>\n",
       "      <td>RURAL</td>\n",
       "      <td>1.754039e+09</td>\n",
       "      <td>LOTE VIVIENDA</td>\n",
       "      <td>CISA VENDE DERECHOS FIDUCIARIOS DEL 9.48%\\n\\nF...</td>\n",
       "    </tr>\n",
       "    <tr>\n",
       "      <th>68</th>\n",
       "      <td>12116</td>\n",
       "      <td>CALIMA EL DARIEN</td>\n",
       "      <td>VALLE DEL CAUCA</td>\n",
       "      <td>VEREDA PALERMO</td>\n",
       "      <td>LT 3B1</td>\n",
       "      <td>131627.00</td>\n",
       "      <td>0.00</td>\n",
       "      <td>COMERCIALIZABLE FIDUCIA</td>\n",
       "      <td>RURAL</td>\n",
       "      <td>2.237659e+09</td>\n",
       "      <td>LOTE VIVIENDA</td>\n",
       "      <td>CISA VENDE DERECHOS FIDUCIARIOS DEL 9.48%\\n\\nF...</td>\n",
       "    </tr>\n",
       "    <tr>\n",
       "      <th>60</th>\n",
       "      <td>12112</td>\n",
       "      <td>CALIMA EL DARIEN</td>\n",
       "      <td>VALLE DEL CAUCA</td>\n",
       "      <td>VEREDA PALERMO</td>\n",
       "      <td>RESERVA FORESTAL LT 1A</td>\n",
       "      <td>2187863.00</td>\n",
       "      <td>0.00</td>\n",
       "      <td>COMERCIALIZABLE FIDUCIA</td>\n",
       "      <td>RURAL</td>\n",
       "      <td>2.406650e+09</td>\n",
       "      <td>LOTE MIXTO</td>\n",
       "      <td>CISA VENDE DERECHOS FIDUCIARIOS DEL 9.48%\\n\\nF...</td>\n",
       "    </tr>\n",
       "    <tr>\n",
       "      <th>55</th>\n",
       "      <td>12113</td>\n",
       "      <td>CALIMA EL DARIEN</td>\n",
       "      <td>VALLE DEL CAUCA</td>\n",
       "      <td>VEREDA PALERMO</td>\n",
       "      <td>LT 4</td>\n",
       "      <td>71143.00</td>\n",
       "      <td>745.33</td>\n",
       "      <td>COMERCIALIZABLE FIDUCIA</td>\n",
       "      <td>RURAL</td>\n",
       "      <td>2.700092e+09</td>\n",
       "      <td>LOTE VIVIENDA</td>\n",
       "      <td>CISA VENDE DERECHOS FIDUCIARIOS DEL 9.48%\\n\\nF...</td>\n",
       "    </tr>\n",
       "    <tr>\n",
       "      <th>54</th>\n",
       "      <td>12114</td>\n",
       "      <td>CALIMA EL DARIEN</td>\n",
       "      <td>VALLE DEL CAUCA</td>\n",
       "      <td>VEREDA PALERMO</td>\n",
       "      <td>LT 1B</td>\n",
       "      <td>175982.00</td>\n",
       "      <td>0.00</td>\n",
       "      <td>COMERCIALIZABLE FIDUCIA</td>\n",
       "      <td>RURAL</td>\n",
       "      <td>2.704525e+09</td>\n",
       "      <td>LOTE VIVIENDA</td>\n",
       "      <td>CISA VENDE DERECHOS FIDUCIARIOS DEL 9.48%\\n\\nF...</td>\n",
       "    </tr>\n",
       "    <tr>\n",
       "      <th>49</th>\n",
       "      <td>12117</td>\n",
       "      <td>CALIMA EL DARIEN</td>\n",
       "      <td>VALLE DEL CAUCA</td>\n",
       "      <td>VEREDA PALERMO</td>\n",
       "      <td>LT 3B2</td>\n",
       "      <td>134000.00</td>\n",
       "      <td>763.06</td>\n",
       "      <td>COMERCIALIZABLE FIDUCIA</td>\n",
       "      <td>RURAL</td>\n",
       "      <td>3.027405e+09</td>\n",
       "      <td>LOTE VIVIENDA</td>\n",
       "      <td>CISA VENDE DERECHOS FIDUCIARIOS DEL 9.48%\\n\\nF...</td>\n",
       "    </tr>\n",
       "    <tr>\n",
       "      <th>37</th>\n",
       "      <td>12120</td>\n",
       "      <td>CALIMA EL DARIEN</td>\n",
       "      <td>VALLE DEL CAUCA</td>\n",
       "      <td>VEREDA PALERMO</td>\n",
       "      <td>LT 2</td>\n",
       "      <td>337995.00</td>\n",
       "      <td>0.00</td>\n",
       "      <td>COMERCIALIZABLE FIDUCIA</td>\n",
       "      <td>RURAL</td>\n",
       "      <td>5.171324e+09</td>\n",
       "      <td>LOTE VIVIENDA</td>\n",
       "      <td>EXCELENTE LOTE CON VISTA AL LAGO CALIMA, UBICA...</td>\n",
       "    </tr>\n",
       "    <tr>\n",
       "      <th>3</th>\n",
       "      <td>2575</td>\n",
       "      <td>SOGAMOSO</td>\n",
       "      <td>BOYACÁ</td>\n",
       "      <td>CENTRO</td>\n",
       "      <td>CRA. 10 #11- 78/80 Ó CL 12 # 9 - 77/85 Ó CALLE...</td>\n",
       "      <td>1655.08</td>\n",
       "      <td>7269.00</td>\n",
       "      <td>COMERCIALIZABLE CON RESTRICCION</td>\n",
       "      <td>CUATRO</td>\n",
       "      <td>1.376828e+10</td>\n",
       "      <td>CLINICA</td>\n",
       "      <td>ESTE INMUEBLE SE COMERCIALIZARÁ A TRAVÉS DE SU...</td>\n",
       "    </tr>\n",
       "  </tbody>\n",
       "</table>\n",
       "</div>"
      ],
      "text/plain": [
       "     Codigo                  Ciudad     Departamento                Barrio  \\\n",
       "236   18871  SANTANDER DE QUILICHAO            CAUCA         VILLA DEL SUR   \n",
       "462   12707                    CALI  VALLE DEL CAUCA      PRADOS DEL NORTE   \n",
       "461   12706                    CALI  VALLE DEL CAUCA      PRADOS DEL NORTE   \n",
       "460   12708                    CALI  VALLE DEL CAUCA      PRADOS DEL NORTE   \n",
       "124   12732                    CALI  VALLE DEL CAUCA    VEREDA EL SALADITO   \n",
       "458   12709                    CALI  VALLE DEL CAUCA      PRADOS DEL NORTE   \n",
       "454   12118        CALIMA EL DARIEN  VALLE DEL CAUCA        VEREDA PALERMO   \n",
       "106   18958               CARTAGENA          BOLÍVAR           ALTO BOSQUE   \n",
       "105   18959               CARTAGENA          BOLÍVAR           ALTO BOSQUE   \n",
       "43    10106            BARRANQUILLA        ATLÁNTICO                CENTRO   \n",
       "99    12119        CALIMA EL DARIEN  VALLE DEL CAUCA        VEREDA PALERMO   \n",
       "57    13270               MANIZALES           CALDAS             EL CENTRO   \n",
       "93    12115        CALIMA EL DARIEN  VALLE DEL CAUCA        VEREDA PALERMO   \n",
       "86    11787  SANTANDER DE QUILICHAO            CAUCA  PARQUE IND CAUCADESA   \n",
       "452   11335                    CALI  VALLE DEL CAUCA  CIUDADELA CHIPICHAPE   \n",
       "80    12121        CALIMA EL DARIEN  VALLE DEL CAUCA        VEREDA PALERMO   \n",
       "68    12116        CALIMA EL DARIEN  VALLE DEL CAUCA        VEREDA PALERMO   \n",
       "60    12112        CALIMA EL DARIEN  VALLE DEL CAUCA        VEREDA PALERMO   \n",
       "55    12113        CALIMA EL DARIEN  VALLE DEL CAUCA        VEREDA PALERMO   \n",
       "54    12114        CALIMA EL DARIEN  VALLE DEL CAUCA        VEREDA PALERMO   \n",
       "49    12117        CALIMA EL DARIEN  VALLE DEL CAUCA        VEREDA PALERMO   \n",
       "37    12120        CALIMA EL DARIEN  VALLE DEL CAUCA        VEREDA PALERMO   \n",
       "3      2575                SOGAMOSO           BOYACÁ                CENTRO   \n",
       "\n",
       "                                             Direccion  Area Terreno  \\\n",
       "236  CL 9 AS # 10-49 LT 14 MZ G  BARRIO VILLA DEL S...          0.00   \n",
       "462  CL 30N #  2B-38 LOCAL 370 CENTRO COMERCIAL SAN...          0.00   \n",
       "461  CL 30N #  2B-38 LOCAL 367 CENTRO COMERCIAL SAN...          0.00   \n",
       "460  CL 30N #  2B-38 LOCAL 564 CENTRO COMERCIAL SAN...          0.00   \n",
       "124  LOTE 9C DIVISION REALIZADA A LA ANTIGUA HACIEN...          0.00   \n",
       "458  CL 30N #  2B-38 LOCAL 562  CENTRO COMERCIAL SA...          0.00   \n",
       "454                                             LT 3B3       3073.00   \n",
       "106  Diagonal 22 No. 53 - 41 Urb. Rincón del Alto B...          0.00   \n",
       "105  Diagonal 22 No. 53 - 41 Urb. Rincón del Alto B...          0.00   \n",
       "43                           CALLE 39 NO 43 58 62 LC 1          0.00   \n",
       "99                                              LT 3B4      37861.33   \n",
       "57   KR 22 # 29-31 LC S-8 CENTRO COMERCIAL PARQUE C...          0.00   \n",
       "93                                               LT 1C      64000.00   \n",
       "86             LT 8 ET I  PARQUE INDUSTRIAL  CAUCADESA      46126.00   \n",
       "452                 LT  B  PARTE DEL PREDIO CHIPICHAPE     430399.68   \n",
       "80                                               LT 3A     109627.44   \n",
       "68                                              LT 3B1     131627.00   \n",
       "60                              RESERVA FORESTAL LT 1A    2187863.00   \n",
       "55                                                LT 4      71143.00   \n",
       "54                                               LT 1B     175982.00   \n",
       "49                                              LT 3B2     134000.00   \n",
       "37                                                LT 2     337995.00   \n",
       "3    CRA. 10 #11- 78/80 Ó CL 12 # 9 - 77/85 Ó CALLE...       1655.08   \n",
       "\n",
       "     Area Construida           Detalle Disponibilidad    Estrato  \\\n",
       "236             0.00  COMERCIALIZABLE CON RESTRICCION        UNO   \n",
       "462             0.00  COMERCIALIZABLE CON RESTRICCION     CUATRO   \n",
       "461             0.00  COMERCIALIZABLE CON RESTRICCION     CUATRO   \n",
       "460             0.00  COMERCIALIZABLE CON RESTRICCION     CUATRO   \n",
       "124             0.00                  COMERCIALIZABLE      RURAL   \n",
       "458             0.00  COMERCIALIZABLE CON RESTRICCION     CUATRO   \n",
       "454             0.00          COMERCIALIZABLE FIDUCIA      RURAL   \n",
       "106             0.00  COMERCIALIZABLE CON RESTRICCION       TRES   \n",
       "105             0.00  COMERCIALIZABLE CON RESTRICCION       TRES   \n",
       "43              0.00  COMERCIALIZABLE CON RESTRICCION        DOS   \n",
       "99           1765.00          COMERCIALIZABLE FIDUCIA      RURAL   \n",
       "57             91.47  COMERCIALIZABLE CON RESTRICCION  COMERCIAL   \n",
       "93            700.00          COMERCIALIZABLE FIDUCIA      RURAL   \n",
       "86              0.00  COMERCIALIZABLE CON RESTRICCION      RURAL   \n",
       "452             0.00          COMERCIALIZABLE FIDUCIA      RURAL   \n",
       "80              0.00          COMERCIALIZABLE FIDUCIA      RURAL   \n",
       "68              0.00          COMERCIALIZABLE FIDUCIA      RURAL   \n",
       "60              0.00          COMERCIALIZABLE FIDUCIA      RURAL   \n",
       "55            745.33          COMERCIALIZABLE FIDUCIA      RURAL   \n",
       "54              0.00          COMERCIALIZABLE FIDUCIA      RURAL   \n",
       "49            763.06          COMERCIALIZABLE FIDUCIA      RURAL   \n",
       "37              0.00          COMERCIALIZABLE FIDUCIA      RURAL   \n",
       "3            7269.00  COMERCIALIZABLE CON RESTRICCION     CUATRO   \n",
       "\n",
       "           Precio       Tipo de Inmueble  \\\n",
       "236  1.534802e+07  LOTE CON CONSTRUCCION   \n",
       "462  2.060800e+07                  LOCAL   \n",
       "461  2.060800e+07                  LOCAL   \n",
       "460  2.070134e+07                  LOCAL   \n",
       "124  2.940740e+07             LOTE MIXTO   \n",
       "458  2.960534e+07                  LOCAL   \n",
       "454  4.916800e+07          LOTE VIVIENDA   \n",
       "106  1.253700e+08            APARTAMENTO   \n",
       "105  1.313550e+08            APARTAMENTO   \n",
       "43   7.303790e+08                  LOCAL   \n",
       "99   8.109750e+08          LOTE VIVIENDA   \n",
       "57   8.375908e+08                  LOCAL   \n",
       "93   1.042887e+09          LOTE VIVIENDA   \n",
       "86   1.416213e+09        LOTE INDUSTRIAL   \n",
       "452  1.667784e+09          LOTE VIVIENDA   \n",
       "80   1.754039e+09          LOTE VIVIENDA   \n",
       "68   2.237659e+09          LOTE VIVIENDA   \n",
       "60   2.406650e+09             LOTE MIXTO   \n",
       "55   2.700092e+09          LOTE VIVIENDA   \n",
       "54   2.704525e+09          LOTE VIVIENDA   \n",
       "49   3.027405e+09          LOTE VIVIENDA   \n",
       "37   5.171324e+09          LOTE VIVIENDA   \n",
       "3    1.376828e+10                CLINICA   \n",
       "\n",
       "                                     Datos Adicionales  \n",
       "236  LOTE DE TERRENO CON CONSTRUCCION\\n\\nEL VALOR D...  \n",
       "462  ¡OPORTUNIDAD PARA INVERTIR! LOCAL EN PROINDIVI...  \n",
       "461  ¡OPORTUNIDAD PARA INVERTIR! LOCAL EN PROINDIVI...  \n",
       "460  ¡OPORTUNIDAD PARA INVERTIR! LOCAL EN PROINDIVI...  \n",
       "124  INVIERTA EN ESTE TERRENO CAMPESTRE EN UNA ZONA...  \n",
       "458  ¡OPORTUNIDAD PARA INVERTIR! LOCAL EN PROINDIVI...  \n",
       "454  LOTE DE TERRENO QUE HACE PARTE DEL PROYECTO CA...  \n",
       "106  OPORTUNIDAD DE INVERTIR EN APARTAMENTO DÚPLEX ...  \n",
       "105  OPORTUNIDAD DE INVERTIR EN APARTAMENTO DÚPLEX ...  \n",
       "43   DESEAS INVERTIR ESTA ES LA OPORTUNIDAD LOCAL E...  \n",
       "99   LOTE DE TERRENO QUE HACE PARTE DEL PROYECTO CA...  \n",
       "57   LOCAL UBICADO EN EL CENTRO COMERCIAL PARQUE CA...  \n",
       "93   LOTE DE TERRENO QUE HACE PARTE DEL PROYECTO CA...  \n",
       "86   LOTE TERRENO NETO , EN PROINDIVISO, SEMI-URBAN...  \n",
       "452  CISA VENDE SOLO LOS DERECHOS FIDUCIARIOS DEL 0...  \n",
       "80   CISA VENDE DERECHOS FIDUCIARIOS DEL 9.48%\\n\\nF...  \n",
       "68   CISA VENDE DERECHOS FIDUCIARIOS DEL 9.48%\\n\\nF...  \n",
       "60   CISA VENDE DERECHOS FIDUCIARIOS DEL 9.48%\\n\\nF...  \n",
       "55   CISA VENDE DERECHOS FIDUCIARIOS DEL 9.48%\\n\\nF...  \n",
       "54   CISA VENDE DERECHOS FIDUCIARIOS DEL 9.48%\\n\\nF...  \n",
       "49   CISA VENDE DERECHOS FIDUCIARIOS DEL 9.48%\\n\\nF...  \n",
       "37   EXCELENTE LOTE CON VISTA AL LAGO CALIMA, UBICA...  \n",
       "3    ESTE INMUEBLE SE COMERCIALIZARÁ A TRAVÉS DE SU...  "
      ]
     },
     "execution_count": 11,
     "metadata": {},
     "output_type": "execute_result"
    }
   ],
   "source": [
    "Precio.head(23)"
   ]
  },
  {
   "cell_type": "markdown",
   "metadata": {},
   "source": [
    "## Medidas de tendencia central y de dispersión\n",
    "\n",
    "### Las medidas de tendencia central permitirán revisar el comportamiento de los datos desde el punto de vista del análisis estadístico; desde esta perspectiva, se aplicarán los distintos métodos, entre los que se encuentran la media, la moda, la mediana, la desviación estándar y los cuartiles.\n",
    "\n",
    "### Usaremos el metodo de pandas describe(); El método describe() de pandas es una función que genera estadísticas descriptivas de un DataFrame o una Serie. Estas estadísticas incluyen medidas de tendencia central, dispersión y forma de la distribución de los datos, excluyendo los valores NaN. Analiza tanto series numéricas como de objetos, así como conjuntos de columnas de DataFrame de tipos de datos mixtos. El resultado variará dependiendo de lo que se proporcione. Por ejemplo, para datos numéricos, el índice del resultado incluirá count, mean, std, min, max, así como percentiles inferiores, 50 y superiores. Por defecto, el percentil inferior es 25 y el superior es 75. El percentil 50 es el mismo que la mediana1."
   ]
  },
  {
   "cell_type": "code",
   "execution_count": 12,
   "metadata": {},
   "outputs": [
    {
     "data": {
      "text/html": [
       "<div>\n",
       "<style scoped>\n",
       "    .dataframe tbody tr th:only-of-type {\n",
       "        vertical-align: middle;\n",
       "    }\n",
       "\n",
       "    .dataframe tbody tr th {\n",
       "        vertical-align: top;\n",
       "    }\n",
       "\n",
       "    .dataframe thead th {\n",
       "        text-align: right;\n",
       "    }\n",
       "</style>\n",
       "<table border=\"1\" class=\"dataframe\">\n",
       "  <thead>\n",
       "    <tr style=\"text-align: right;\">\n",
       "      <th></th>\n",
       "      <th>Codigo</th>\n",
       "      <th>Area Terreno</th>\n",
       "      <th>Area Construida</th>\n",
       "      <th>Precio</th>\n",
       "    </tr>\n",
       "  </thead>\n",
       "  <tbody>\n",
       "    <tr>\n",
       "      <th>count</th>\n",
       "      <td>23.000000</td>\n",
       "      <td>2.300000e+01</td>\n",
       "      <td>23.000000</td>\n",
       "      <td>2.300000e+01</td>\n",
       "    </tr>\n",
       "    <tr>\n",
       "      <th>mean</th>\n",
       "      <td>12634.260870</td>\n",
       "      <td>1.622327e+05</td>\n",
       "      <td>492.776522</td>\n",
       "      <td>1.770347e+09</td>\n",
       "    </tr>\n",
       "    <tr>\n",
       "      <th>std</th>\n",
       "      <td>3247.318491</td>\n",
       "      <td>4.558649e+05</td>\n",
       "      <td>1537.481264</td>\n",
       "      <td>2.936256e+09</td>\n",
       "    </tr>\n",
       "    <tr>\n",
       "      <th>min</th>\n",
       "      <td>2575.000000</td>\n",
       "      <td>0.000000e+00</td>\n",
       "      <td>0.000000</td>\n",
       "      <td>1.534802e+07</td>\n",
       "    </tr>\n",
       "    <tr>\n",
       "      <th>25%</th>\n",
       "      <td>12113.500000</td>\n",
       "      <td>0.000000e+00</td>\n",
       "      <td>0.000000</td>\n",
       "      <td>3.938667e+07</td>\n",
       "    </tr>\n",
       "    <tr>\n",
       "      <th>50%</th>\n",
       "      <td>12119.000000</td>\n",
       "      <td>3.073000e+03</td>\n",
       "      <td>0.000000</td>\n",
       "      <td>8.375908e+08</td>\n",
       "    </tr>\n",
       "    <tr>\n",
       "      <th>75%</th>\n",
       "      <td>12708.500000</td>\n",
       "      <td>1.206272e+05</td>\n",
       "      <td>45.735000</td>\n",
       "      <td>2.322155e+09</td>\n",
       "    </tr>\n",
       "    <tr>\n",
       "      <th>max</th>\n",
       "      <td>18959.000000</td>\n",
       "      <td>2.187863e+06</td>\n",
       "      <td>7269.000000</td>\n",
       "      <td>1.376828e+10</td>\n",
       "    </tr>\n",
       "  </tbody>\n",
       "</table>\n",
       "</div>"
      ],
      "text/plain": [
       "             Codigo  Area Terreno  Area Construida        Precio\n",
       "count     23.000000  2.300000e+01        23.000000  2.300000e+01\n",
       "mean   12634.260870  1.622327e+05       492.776522  1.770347e+09\n",
       "std     3247.318491  4.558649e+05      1537.481264  2.936256e+09\n",
       "min     2575.000000  0.000000e+00         0.000000  1.534802e+07\n",
       "25%    12113.500000  0.000000e+00         0.000000  3.938667e+07\n",
       "50%    12119.000000  3.073000e+03         0.000000  8.375908e+08\n",
       "75%    12708.500000  1.206272e+05        45.735000  2.322155e+09\n",
       "max    18959.000000  2.187863e+06      7269.000000  1.376828e+10"
      ]
     },
     "execution_count": 12,
     "metadata": {},
     "output_type": "execute_result"
    }
   ],
   "source": [
    "datos.describe()"
   ]
  },
  {
   "cell_type": "markdown",
   "metadata": {},
   "source": [
    "### Luego de la limpieza de los datos, obtuvimos un conjunto con 23 observaciones, es decir, con 23 filas, y las mismas columnas o atributos, esto sucede pues se eliminaron muchos datos nulos y duplicados. Lo cual rejo considerablemente el conjunto de datos para el análisis.\n",
    "\n",
    "### La tabla que arroja el método describe() de pandas muestra el conteo  total de las observaciones por variable \"Count\". Además, brinda tanto los valores máximos \"max\" como mínimos \"min\" de cada una de estas, también calcula la desviación estándar \"std\" de cada variable numérica o cuantitativa, la media \"mean\"  y los cuartiles (25%,50%,75%). \n",
    "\n",
    "### La variable \"Codigo\" es irrelevante pues a pesar de ser una variable numérica esta no aporta nada al análisis estadístico, pues se trata de únicamente una clave primaria que identifica a cada una de las  observaciones."
   ]
  },
  {
   "cell_type": "markdown",
   "metadata": {},
   "source": [
    "## Ahora procedemos a visualizar la distribución porcentual de ventas de inmuebles en todo el territorio colombiano según el estrato:\n",
    "### Inicialmente trabajamos con la variable cualitativa “Estrato” para ello debemos conocer sus diferentes valores para poder determinar el valor porcentual de cada una de estas."
   ]
  },
  {
   "cell_type": "code",
   "execution_count": 13,
   "metadata": {},
   "outputs": [
    {
     "name": "stdout",
     "output_type": "stream",
     "text": [
      "['CUATRO' 'RURAL' 'DOS' 'COMERCIAL' 'TRES' 'UNO']\n"
     ]
    }
   ],
   "source": [
    "print(datos['Estrato'].unique()) # con este sencilla linea de codigo podemos saber cuales son los valores cualitativos que contiene la columna \"Estrato\""
   ]
  },
  {
   "cell_type": "code",
   "execution_count": 14,
   "metadata": {},
   "outputs": [
    {
     "data": {
      "image/png": "[encoded data removed]",
      "text/plain": [
       "<Figure size 640x480 with 1 Axes>"
      ]
     },
     "metadata": {},
     "output_type": "display_data"
    }
   ],
   "source": [
    "total_inmuebles_estrato = datos['Estrato'].groupby(datos['Estrato']).count()\n",
    "labels = ['UNO','CUATRO', 'DOS', 'RURAL', 'TRES', 'COMERCIAL']\n",
    "colors = sns.color_palette('Set2')[0:6]\n",
    "\n",
    "plt.pie(total_inmuebles_estrato, labels = labels, colors = colors, autopct='%.1f%%')\n",
    "plt.show()"
   ]
  },
  {
   "cell_type": "markdown",
   "metadata": {},
   "source": [
    "### La gráfica muestra la distribución porcentual de un conjunto de datos de inmuebles en Colombia según su estrato. Según la gráfica, el 56.5% de los inmuebles son de estrato “RURAL”, lo que indica que la mayoría de los inmuebles en el conjunto de datos son de este estrato. El segundo estrato más común es “CUATRO”, que representa el 21.7% de los inmuebles. Los estratos “COMERCIAL” y “TRES” representan el 8.7% y 4.3% de los inmuebles, respectivamente. Los estratos “DOS” y “UNO” son los menos comunes, cada uno representando el 4.3% de los inmuebles.\n",
    "\n"
   ]
  },
  {
   "cell_type": "markdown",
   "metadata": {},
   "source": [
    "## "
   ]
  },
  {
   "cell_type": "code",
   "execution_count": 15,
   "metadata": {},
   "outputs": [
    {
     "data": {
      "text/plain": [
       "<Axes: >"
      ]
     },
     "execution_count": 15,
     "metadata": {},
     "output_type": "execute_result"
    },
    {
     "data": {
      "image/png": "[encoded data removed]",
      "text/plain": [
       "<Figure size 640x480 with 2 Axes>"
      ]
     },
     "metadata": {},
     "output_type": "display_data"
    }
   ],
   "source": [
    "# Selecciona solo las columnas numéricas\n",
    "numeric_cols = datos[[ 'Area Terreno', 'Area Construida', 'Precio']]\n",
    "\n",
    "# Calcula la matriz de correlación para las columnas numéricas\n",
    "corr_matrix = numeric_cols.corr()\n",
    "\n",
    "# Crea un mapa de calor a partir de la matriz de correlación\n",
    "sns.heatmap(corr_matrix, xticklabels=corr_matrix.columns, yticklabels=corr_matrix.columns, annot=True)\n"
   ]
  },
  {
   "cell_type": "markdown",
   "metadata": {},
   "source": [
    "### La matriz de correlación muestra la relación entre tres variables: “Area Terreno”, “Area Construida” y “Precio”. Una matriz de correlación es una herramienta útil para visualizar la relación entre diferentes variables y para identificar patrones o tendencias en los datos.\n",
    "\n",
    "### Según la matriz, la variable “Area Construida” tiene una correlación positiva con la variable “Precio”, lo que indica que a medida que una de estas variables aumenta, la otra también tiende a aumentar. Por otro lado, las variables “Area Terreno” y “Precio” no tienen una correlación significativa. Esto indica que no hay una relación lineal clara entre estas dos variables en el conjunto de datos."
   ]
  },
  {
   "cell_type": "markdown",
   "metadata": {},
   "source": [
    "## Histograma para precio de inmuebles "
   ]
  },
  {
   "cell_type": "code",
   "execution_count": 16,
   "metadata": {},
   "outputs": [
    {
     "data": {
      "image/png": "[encoded data removed]",
      "text/plain": [
       "<Figure size 640x480 with 1 Axes>"
      ]
     },
     "metadata": {},
     "output_type": "display_data"
    }
   ],
   "source": [
    "sns.histplot(datos.Precio,color=\"b\",bins=30,kde=True)\n",
    "plt.show()\n"
   ]
  },
  {
   "cell_type": "markdown",
   "metadata": {},
   "source": [
    "### Podemos observar que la variable cuantitativa Precio presneta una distribución Exponencial. \n",
    "\n",
    "### El histograma de una distribución exponencial tiene una forma decreciente, con la mayoría de los datos agrupados cerca del valor mínimo y menos datos a medida que nos alejamos del valor mínimo. la escala de Precio es del valor 1*10^10 lo cual explica tambien el tipo de distribucion que presentan los datos,ya que la distribucion esta sesgada hacia la derecha, ya que la mayoría de los datos se concentran en el lado izquierdo del gráfico y hay una cola larga hacia la derecha. Esto sugiere que hay algunos valores atípicos con precios muy altos que están alejados de la mayoría de los datos."
   ]
  },
  {
   "cell_type": "markdown",
   "metadata": {},
   "source": [
    "## Grafico de barras para explicar la relacion Precio vs Estrato"
   ]
  },
  {
   "cell_type": "code",
   "execution_count": 17,
   "metadata": {},
   "outputs": [
    {
     "data": {
      "image/png": "[encoded data removed]",
      "text/plain": [
       "<Figure size 640x480 with 1 Axes>"
      ]
     },
     "metadata": {},
     "output_type": "display_data"
    }
   ],
   "source": [
    "# Crea un gráfico de barras para visualizar la relación entre 'Precio' y 'Estrato'\n",
    "sns.barplot(x='Estrato', y='Precio', data=datos)\n",
    "plt.show()"
   ]
  },
  {
   "cell_type": "markdown",
   "metadata": {},
   "source": [
    "### La gráfica muestra un gráfico de barras que compara el precio promedio de inmuebles en Colombia según su estrato. Cada barra representa un estrato diferente y su altura indica el precio promedio de los inmuebles en ese estrato.\n",
    "\n",
    "### Según la gráfica, el estrato “CUATRO” tiene el precio promedio más alto, seguido por el estrato “RURAL”. Los estratos “DOS” y “COMERCIAL” tienen precios promedio similares, mientras que los estratos “TRES” y “UNO” tienen los precios promedio más bajos."
   ]
  },
  {
   "cell_type": "markdown",
   "metadata": {},
   "source": [
    "## Grafico de barras para mostrar la proporcion de venta de inmuebles por \"Estrato\" "
   ]
  },
  {
   "cell_type": "code",
   "execution_count": 18,
   "metadata": {},
   "outputs": [
    {
     "data": {
      "image/png": "[encoded data removed]",
      "text/plain": [
       "<Figure size 1000x700 with 1 Axes>"
      ]
     },
     "metadata": {},
     "output_type": "display_data"
    }
   ],
   "source": [
    "plt.figure(figsize=(10,7))\n",
    "# Crea un gráfico de conteo para la variable cualitativa 'Estrato'\n",
    "sns.countplot(x='Estrato', data=datos)\n",
    "plt.show()"
   ]
  },
  {
   "cell_type": "markdown",
   "metadata": {},
   "source": [
    "### Esta gráfica muestra un gráfico de barras que representa la frecuencia de inmuebles en Colombia según su estrato. Cada barra representa un estrato diferente y su altura indica el número de inmuebles en ese estrato.\n",
    "\n",
    "### Según la gráfica, el estrato “CUATRO” tiene la mayor frecuencia, seguido por el estrato “RURAL”. Los estratos “DOS” y “COMERCIAL” tienen frecuencias similares, mientras que los estratos “TRES” y “UNO” tienen las frecuencias más bajas.\n",
    "\n",
    "### Esta información es útil para entender cómo se distribuyen los inmuebles según su estrato en Colombia. También puede ayudar a identificar patrones o tendencias en los datos y a tomar decisiones informadas sobre la compra o venta de inmuebles."
   ]
  },
  {
   "cell_type": "markdown",
   "metadata": {},
   "source": [
    "## Grafica de cajas y bigotes para mostrar la relación existente entre el Precio del inmueble vs el Estrato:"
   ]
  },
  {
   "cell_type": "code",
   "execution_count": 19,
   "metadata": {},
   "outputs": [
    {
     "data": {
      "image/png": "[encoded data removed]",
      "text/plain": [
       "<Figure size 640x480 with 1 Axes>"
      ]
     },
     "metadata": {},
     "output_type": "display_data"
    }
   ],
   "source": [
    "# Crea un gráfico de caja para visualizar la relación entre 'Estrato' y 'Precio'\n",
    "sns.boxplot(x='Estrato', y='Precio', data=datos)\n",
    "# Muestra el gráfico\n",
    "plt.show()"
   ]
  },
  {
   "cell_type": "markdown",
   "metadata": {},
   "source": [
    "### Según el gráfico, el estrato “CUATRO” tiene una distribución de precios con una mediana alrededor de 0.3 * 10^10 en la escala de Precios, lo que indica que el 50% de los inmuebles en este estrato tienen un precio por debajo de este valor. La caja se extiende desde aproximadamente 0.2 hasta 0.4 en el rango de precios, lo que representa el rango intercuartílico (IQR) y contiene el 50% central de los datos. Los bigotes del gráfico se extienden hasta los valores mínimo y máximo dentro de 1.5 veces el IQR.\n",
    "\n",
    "### El estrato “RURAL” tiene una distribución de precios diferente, con una línea negra que se extiende desde aproximadamente 0.6 hasta 1e10 en el eje y. Esto indica que hay una gran variabilidad en los precios de los inmuebles en este estrato.\n",
    "\n",
    "### Los estratos “DOS”, “COMERCIAL”, “TRES” y “UNO” no tienen datos suficientes para generar un gráfico de caja, por lo que aparecen vacíos en el gráfico."
   ]
  },
  {
   "cell_type": "markdown",
   "metadata": {},
   "source": [
    "## Respuesta a la pregunta del caso propuesto para el análisis estadístico de datos: \n",
    "### ¿Cuáles son las variables más importantes que afectan el precio de las viviendas y locales en venta y cómo se relacionan entre sí?\n",
    "### La variable más importante que afecta el precio de los inmuebles en Colombia es el “Área Construida” pues tiene una alta correlación positiva con el precio del inmueble, de esta manera obtuvimos la relación entre las variables Estrato, Precio Y Áreas de construcción y del terreno; Demostrando en la matriz de correlación dichas relaciones.\n"
   ]
  },
  {
   "cell_type": "markdown",
   "metadata": {},
   "source": [
    "# Conclusiones:"
   ]
  },
  {
   "cell_type": "markdown",
   "metadata": {},
   "source": [
    "### 1.El conjunto de datos tiene 23 observaciones luego de la limpieza del mismo.\n",
    "### 2.La variable “Area Terreno” tiene una media de 162232.7 y una desviación estándar de 455864.9, lo que indica una gran variabilidad en los valores.\n",
    "### 3.La variable “Area Construida” tiene una media de 492.7765 y una desviación estándar de 1537.481, lo que también indica una gran variabilidad en los valores.\n",
    "### 4.La variable “Precio” tiene una media de 1770347000 y una desviación estándar de 2936256000, lo que indica una gran variabilidad en los precios de los inmuebles.\n",
    "### 5.El precio mínimo de los inmuebles es 15348020 y el precio máximo es 13768280000.\n",
    "### 6.El 50% de los inmuebles tienen un precio por debajo de 837590800, que es la mediana de la variable “Precio”.\n",
    "### 7.El rango intercuartílico (IQR) de la variable “Precio” es 2322155000 - 39386670 = 2282768330, lo que indica que el 50% central de los datos se encuentra en este rango.\n",
    "### 9.La media de las ventas por metro cuadrado es:  1,401,051,\n",
    "### 10.Existe una alta correlación entre “Área Construida” y “Precio” es decir que a mayor área construida más costoso será el inmueble.\n",
    "### 11.Por otro lado, el “Área Terreno” y Precio tienen una correlación poco significativa, lo que nos indica que en Colombia le dan mayor valorización a los construido al terreno de la propiedad.\n"
   ]
  }
 ],
 "metadata": {
  "kernelspec": {
   "display_name": "Python 3",
   "language": "python",
   "name": "python3"
  },
  "language_info": {
   "codemirror_mode": {
    "name": "ipython",
    "version": 3
   },
   "file_extension": ".py",
   "mimetype": "text/x-python",
   "name": "python",
   "nbconvert_exporter": "python",
   "pygments_lexer": "ipython3",
   "version": "3.11.2"
  },
  "orig_nbformat": 4
 },
 "nbformat": 4,
 "nbformat_minor": 2
}
